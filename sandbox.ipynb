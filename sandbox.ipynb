{
 "cells": [
  {
   "cell_type": "code",
   "execution_count": 3,
   "metadata": {},
   "outputs": [],
   "source": [
    "import random\n",
    "import matplotlib.pyplot as plt\n",
    "import numpy as np"
   ]
  },
  {
   "cell_type": "code",
   "execution_count": 2,
   "metadata": {},
   "outputs": [],
   "source": [
    "def simulate(reds, purples, blues):\n",
    "    egg_counts = {\n",
    "        'red': reds,\n",
    "        'purple': purples,\n",
    "        'blue': blues\n",
    "    }\n",
    "\n",
    "    def count_mins(l):\n",
    "        i = 0\n",
    "        min_val = min(l)\n",
    "        for x in l:\n",
    "            if x == min_val:\n",
    "                i += 1\n",
    "        return i > 1\n",
    "    \n",
    "\n",
    "    counts = egg_counts.values()\n",
    "    while sum(counts) > 1:\n",
    "        #propagate the egg fusion\n",
    "        \n",
    "        #if the two smallest piles are equal, chose one at random\n",
    "        if (counts[0] == counts[1] or counts[0] == counts[2] or counts[0] == counts[2]) and count_mins(counts):\n",
    "            random.choice()\n",
    "\n",
    "        \n",
    "\n",
    "\n",
    "\n",
    "    return egg_counts\n",
    "\n",
    "\n",
    "\n",
    "simulate(**[23, 33, 43])\n",
    "    "
   ]
  },
  {
   "cell_type": "code",
   "execution_count": 44,
   "metadata": {},
   "outputs": [],
   "source": [
    "def series(n):\n",
    "    xs = [24, 23]\n",
    "    result = 57\n",
    "    def recurrence(a, b):\n",
    "        return  -b + 6*a\n",
    "\n",
    "    for i in range(2, n):\n",
    "        x_i = recurrence(xs[-2], xs[-1])\n",
    "        xs.append(x_i)\n",
    "        result += x_i\n",
    "\n",
    "    print(xs)\n",
    "\n",
    "    return result\n"
   ]
  },
  {
   "cell_type": "code",
   "execution_count": 45,
   "metadata": {},
   "outputs": [
    {
     "name": "stdout",
     "output_type": "stream",
     "text": [
      "[24, 23]\n",
      "57\n",
      "[24, 23]\n",
      "57\n",
      "[24, 23]\n",
      "57\n",
      "[24, 23, 121]\n",
      "178\n",
      "[24, 23, 121, 17]\n",
      "195\n",
      "[24, 23, 121, 17, 709]\n",
      "904\n",
      "[24, 23, 121, 17, 709, -607]\n",
      "297\n",
      "[24, 23, 121, 17, 709, -607, 4861]\n",
      "5158\n",
      "[24, 23, 121, 17, 709, -607, 4861, -8503]\n",
      "-3345\n",
      "[24, 23, 121, 17, 709, -607, 4861, -8503, 37669]\n",
      "34324\n"
     ]
    }
   ],
   "source": [
    "def is_prime(n: int):\n",
    "    \n",
    "\n",
    "def is_square(x: int):\n",
    "    for i in range(10):\n",
    "        if i*i == x:\n",
    "            return True\n",
    "    return False\n"
   ]
  },
  {
   "cell_type": "code",
   "execution_count": 33,
   "metadata": {},
   "outputs": [
    {
     "data": {
      "image/png": "[encoded data removed]",
      "text/plain": [
       "<Figure size 640x480 with 1 Axes>"
      ]
     },
     "metadata": {},
     "output_type": "display_data"
    }
   ],
   "source": [
    "plt.scatter(*compute_instance(50))\n",
    "plt.show()"
   ]
  },
  {
   "cell_type": "code",
   "execution_count": 38,
   "metadata": {},
   "outputs": [
    {
     "name": "stdout",
     "output_type": "stream",
     "text": [
      "0\n",
      "0\n",
      "64.0\n",
      "48.0\n",
      "45.03703703703704\n",
      "44.0\n",
      "43.52\n",
      "43.25925925925926\n",
      "43.10204081632653\n",
      "43.0\n",
      "42.93004115226338\n",
      "42.88\n",
      "42.84297520661157\n",
      "42.81481481481481\n",
      "42.79289940828402\n",
      "42.775510204081634\n",
      "42.76148148148148\n",
      "42.75\n",
      "42.740484429065745\n",
      "42.732510288065846\n",
      "42.72576177285318\n",
      "42.720000000000006\n",
      "42.71504157218443\n",
      "42.710743801652896\n",
      "42.70699432892249\n",
      "42.7037037037037\n",
      "42.7008\n",
      "42.69822485207101\n",
      "42.69593049839963\n",
      "42.69387755102041\n",
      "42.69203329369798\n",
      "42.69037037037037\n",
      "42.6888657648283\n",
      "42.6875\n",
      "42.686256504438326\n",
      "42.68512110726645\n",
      "42.684081632653054\n",
      "42.68312757201647\n",
      "42.68224981738495\n",
      "42.6814404432133\n",
      "42.68069252684637\n",
      "42.68\n",
      "42.67935752528257\n",
      "42.67876039304611\n",
      "42.67820443482964\n",
      "42.67768595041323\n",
      "42.67720164609054\n",
      "42.67674858223062\n",
      "42.67632412856496\n",
      "42.675925925925924\n"
     ]
    }
   ],
   "source": [
    "compute_sum(50)"
   ]
  },
  {
   "cell_type": "code",
   "execution_count": null,
   "metadata": {},
   "outputs": [],
   "source": []
  },
  {
   "cell_type": "code",
   "execution_count": 13,
   "metadata": {},
   "outputs": [],
   "source": []
  },
  {
   "cell_type": "code",
   "execution_count": null,
   "metadata": {},
   "outputs": [],
   "source": [
    "sns.histpl"
   ]
  },
  {
   "cell_type": "code",
   "execution_count": null,
   "metadata": {},
   "outputs": [],
   "source": []
  },
  {
   "cell_type": "code",
   "execution_count": null,
   "metadata": {},
   "outputs": [],
   "source": []
  },
  {
   "cell_type": "code",
   "execution_count": null,
   "metadata": {},
   "outputs": [],
   "source": []
  },
  {
   "cell_type": "code",
   "execution_count": null,
   "metadata": {},
   "outputs": [],
   "source": []
  },
  {
   "cell_type": "code",
   "execution_count": null,
   "metadata": {},
   "outputs": [],
   "source": []
  },
  {
   "cell_type": "code",
   "execution_count": null,
   "metadata": {},
   "outputs": [],
   "source": []
  }
 ],
 "metadata": {
  "kernelspec": {
   "display_name": "maplestory",
   "language": "python",
   "name": "python3"
  },
  "language_info": {
   "codemirror_mode": {
    "name": "ipython",
    "version": 3
   },
   "file_extension": ".py",
   "mimetype": "text/x-python",
   "name": "python",
   "nbconvert_exporter": "python",
   "pygments_lexer": "ipython3",
   "version": "3.11.4"
  }
 },
 "nbformat": 4,
 "nbformat_minor": 2
}
