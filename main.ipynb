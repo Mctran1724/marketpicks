{
 "cells": [
  {
   "cell_type": "code",
   "execution_count": 2,
   "metadata": {},
   "outputs": [],
   "source": [
    "import matplotlib.pyplot as plt\n",
    "import seaborn as sns\n",
    "import pandas as pd\n",
    "import yfinance as yf\n"
   ]
  },
  {
   "cell_type": "code",
   "execution_count": 4,
   "metadata": {},
   "outputs": [],
   "source": [
    "spy = yf.Ticker('SPY')"
   ]
  },
  {
   "cell_type": "code",
   "execution_count": 6,
   "metadata": {},
   "outputs": [],
   "source": [
    "df = pd.read_html('https://en.wikipedia.org/wiki/List_of_S%26P_500_companies')"
   ]
  },
  {
   "cell_type": "code",
   "execution_count": 25,
   "metadata": {},
   "outputs": [],
   "source": [
    "#utilities and functions\n",
    "\n",
    "def get_sp_data(start='2008-01-01', end=None, save=False):\n",
    "    # Get the current SP components, and get a tickers list\n",
    "    sp_assets = pd.read_html(\n",
    "        'https://en.wikipedia.org/wiki/List_of_S%26P_500_companies')[0]\n",
    "    assets = sp_assets['Symbol'].str.replace('.', '-').tolist()\n",
    "    # Download historical data to a multi-index DataFrame\n",
    "    try:\n",
    "        data = yf.download(assets, start=start, end=end)\n",
    "        if save:\n",
    "            filename = save\n",
    "            data.to_pickle(filename)\n",
    "            print('Data saved at {}'.format(filename))\n",
    "    except ValueError:\n",
    "        print('Failed download, try again.')\n",
    "        data = None\n",
    "    return data\n",
    "\n",
    "def best_performers(budget, n, df):\n",
    "    #return up to n best performers based on the available budget\n",
    "    \n",
    "\n",
    "    pass"
   ]
  },
  {
   "cell_type": "code",
   "execution_count": 27,
   "metadata": {},
   "outputs": [
    {
     "name": "stderr",
     "output_type": "stream",
     "text": [
      "[*********************100%%**********************]  503 of 503 completed\n"
     ]
    }
   ],
   "source": [
    "all_prices = get_sp_data('2021-01-01')\n",
    "df = all_prices['Open']"
   ]
  },
  {
   "cell_type": "code",
   "execution_count": 59,
   "metadata": {},
   "outputs": [
    {
     "data": {
      "text/html": [
       "<div>\n",
       "<style scoped>\n",
       "    .dataframe tbody tr th:only-of-type {\n",
       "        vertical-align: middle;\n",
       "    }\n",
       "\n",
       "    .dataframe tbody tr th {\n",
       "        vertical-align: top;\n",
       "    }\n",
       "\n",
       "    .dataframe thead th {\n",
       "        text-align: right;\n",
       "    }\n",
       "</style>\n",
       "<table border=\"1\" class=\"dataframe\">\n",
       "  <thead>\n",
       "    <tr style=\"text-align: right;\">\n",
       "      <th></th>\n",
       "      <th>2021-01-04 00:00:00</th>\n",
       "      <th>2024-07-17 00:00:00</th>\n",
       "      <th>PnL</th>\n",
       "    </tr>\n",
       "    <tr>\n",
       "      <th>Ticker</th>\n",
       "      <th></th>\n",
       "      <th></th>\n",
       "      <th></th>\n",
       "    </tr>\n",
       "  </thead>\n",
       "  <tbody>\n",
       "    <tr>\n",
       "      <th>A</th>\n",
       "      <td>118.940002</td>\n",
       "      <td>135.160004</td>\n",
       "      <td>16.220001</td>\n",
       "    </tr>\n",
       "    <tr>\n",
       "      <th>AAL</th>\n",
       "      <td>15.850000</td>\n",
       "      <td>10.950000</td>\n",
       "      <td>-4.900001</td>\n",
       "    </tr>\n",
       "    <tr>\n",
       "      <th>AAPL</th>\n",
       "      <td>133.520004</td>\n",
       "      <td>229.479996</td>\n",
       "      <td>95.959991</td>\n",
       "    </tr>\n",
       "    <tr>\n",
       "      <th>ABBV</th>\n",
       "      <td>107.180000</td>\n",
       "      <td>169.509995</td>\n",
       "      <td>62.329994</td>\n",
       "    </tr>\n",
       "    <tr>\n",
       "      <th>ABNB</th>\n",
       "      <td>150.990005</td>\n",
       "      <td>149.240005</td>\n",
       "      <td>-1.750000</td>\n",
       "    </tr>\n",
       "    <tr>\n",
       "      <th>...</th>\n",
       "      <td>...</td>\n",
       "      <td>...</td>\n",
       "      <td>...</td>\n",
       "    </tr>\n",
       "    <tr>\n",
       "      <th>XYL</th>\n",
       "      <td>102.029999</td>\n",
       "      <td>140.509995</td>\n",
       "      <td>38.479996</td>\n",
       "    </tr>\n",
       "    <tr>\n",
       "      <th>YUM</th>\n",
       "      <td>109.019997</td>\n",
       "      <td>129.070007</td>\n",
       "      <td>20.050011</td>\n",
       "    </tr>\n",
       "    <tr>\n",
       "      <th>ZBH</th>\n",
       "      <td>151.019058</td>\n",
       "      <td>107.459999</td>\n",
       "      <td>-43.559059</td>\n",
       "    </tr>\n",
       "    <tr>\n",
       "      <th>ZBRA</th>\n",
       "      <td>385.750000</td>\n",
       "      <td>332.109985</td>\n",
       "      <td>-53.640015</td>\n",
       "    </tr>\n",
       "    <tr>\n",
       "      <th>ZTS</th>\n",
       "      <td>166.000000</td>\n",
       "      <td>182.000000</td>\n",
       "      <td>16.000000</td>\n",
       "    </tr>\n",
       "  </tbody>\n",
       "</table>\n",
       "<p>503 rows × 3 columns</p>\n",
       "</div>"
      ],
      "text/plain": [
       "        2021-01-04 00:00:00  2024-07-17 00:00:00        PnL\n",
       "Ticker                                                     \n",
       "A                118.940002           135.160004  16.220001\n",
       "AAL               15.850000            10.950000  -4.900001\n",
       "AAPL             133.520004           229.479996  95.959991\n",
       "ABBV             107.180000           169.509995  62.329994\n",
       "ABNB             150.990005           149.240005  -1.750000\n",
       "...                     ...                  ...        ...\n",
       "XYL              102.029999           140.509995  38.479996\n",
       "YUM              109.019997           129.070007  20.050011\n",
       "ZBH              151.019058           107.459999 -43.559059\n",
       "ZBRA             385.750000           332.109985 -53.640015\n",
       "ZTS              166.000000           182.000000  16.000000\n",
       "\n",
       "[503 rows x 3 columns]"
      ]
     },
     "execution_count": 59,
     "metadata": {},
     "output_type": "execute_result"
    }
   ],
   "source": []
  },
  {
   "cell_type": "code",
   "execution_count": 58,
   "metadata": {},
   "outputs": [],
   "source": [
    "comparisons = pd.concat([df.iloc[0].to_frame(), df.iloc[-1].to_frame()], axis=1)\n",
    "comparisons[\"PnL\"] = comparisons[comparisons.columns[1]] - comparisons[comparisons.columns[0]] "
   ]
  },
  {
   "cell_type": "code",
   "execution_count": null,
   "metadata": {},
   "outputs": [],
   "source": []
  }
 ],
 "metadata": {
  "kernelspec": {
   "display_name": "markets",
   "language": "python",
   "name": "python3"
  },
  "language_info": {
   "codemirror_mode": {
    "name": "ipython",
    "version": 3
   },
   "file_extension": ".py",
   "mimetype": "text/x-python",
   "name": "python",
   "nbconvert_exporter": "python",
   "pygments_lexer": "ipython3",
   "version": "3.12.2"
  }
 },
 "nbformat": 4,
 "nbformat_minor": 2
}
