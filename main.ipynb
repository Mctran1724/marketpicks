{
 "cells": [
  {
   "cell_type": "code",
   "execution_count": 78,
   "metadata": {},
   "outputs": [],
   "source": [
    "import matplotlib.pyplot as plt\n",
    "import seaborn as sns\n",
    "import pandas as pd\n",
    "import yfinance as yf\n",
    "import numpy as np"
   ]
  },
  {
   "cell_type": "code",
   "execution_count": 4,
   "metadata": {},
   "outputs": [],
   "source": [
    "spy = yf.Ticker('SPY')"
   ]
  },
  {
   "cell_type": "code",
   "execution_count": 6,
   "metadata": {},
   "outputs": [],
   "source": [
    "df = pd.read_html('https://en.wikipedia.org/wiki/List_of_S%26P_500_companies')"
   ]
  },
  {
   "cell_type": "code",
   "execution_count": 25,
   "metadata": {},
   "outputs": [],
   "source": [
    "#utilities and functions\n",
    "\n",
    "def get_sp_data(start='2008-01-01', end=None, save=False):\n",
    "    # Get the current SP components, and get a tickers list\n",
    "    sp_assets = pd.read_html(\n",
    "        'https://en.wikipedia.org/wiki/List_of_S%26P_500_companies')[0]\n",
    "    assets = sp_assets['Symbol'].str.replace('.', '-').tolist()\n",
    "    # Download historical data to a multi-index DataFrame\n",
    "    try:\n",
    "        data = yf.download(assets, start=start, end=end)\n",
    "        if save:\n",
    "            filename = save\n",
    "            data.to_pickle(filename)\n",
    "            print('Data saved at {}'.format(filename))\n",
    "    except ValueError:\n",
    "        print('Failed download, try again.')\n",
    "        data = None\n",
    "    return data\n",
    "\n",
    "\n",
    "def transform_data_performers(df):\n",
    "    comparisons = pd.concat([df.iloc[0].to_frame(), df.iloc[-1].to_frame()], axis=1)\n",
    "    comparisons[\"PnL\"] = comparisons[comparisons.columns[1]] - comparisons[comparisons.columns[0]] \n",
    "    #It's justified to simply ignore the NaNs here because those come from stocks that were not available at the period start date. These would not be purchaseable anyway, so they can be neglected.\n",
    "    return comparisons\n",
    "\n",
    "\n",
    "def best_performers(budget, n, df):\n",
    "    #return up to n best performers based on the available budget\n",
    "    df = transform_data_performers(df)\n",
    "    \n",
    "    df.sort\n",
    "\n",
    "    pass"
   ]
  },
  {
   "cell_type": "code",
   "execution_count": 27,
   "metadata": {},
   "outputs": [
    {
     "name": "stderr",
     "output_type": "stream",
     "text": [
      "[*********************100%%**********************]  503 of 503 completed\n"
     ]
    }
   ],
   "source": [
    "all_prices = get_sp_data('2021-01-01')\n",
    "df = all_prices['Open']"
   ]
  },
  {
   "cell_type": "code",
   "execution_count": null,
   "metadata": {},
   "outputs": [],
   "source": [
    "class eSim:\n",
    "    def __init__(self, plan):\n",
    "        self._plan = plan"
   ]
  },
  {
   "cell_type": "code",
   "execution_count": 58,
   "metadata": {},
   "outputs": [],
   "source": [
    "comparisons = pd.concat([df.iloc[0].to_frame(), df.iloc[-1].to_frame()], axis=1)\n",
    "comparisons[\"PnL\"] = comparisons[comparisons.columns[1]] - comparisons[comparisons.columns[0]] "
   ]
  },
  {
   "cell_type": "code",
   "execution_count": 79,
   "metadata": {},
   "outputs": [],
   "source": []
  },
  {
   "cell_type": "code",
   "execution_count": 88,
   "metadata": {},
   "outputs": [
    {
     "data": {
      "image/png": "[encoded data removed]",
      "text/plain": [
       "<Figure size 640x480 with 1 Axes>"
      ]
     },
     "metadata": {},
     "output_type": "display_data"
    }
   ],
   "source": []
  },
  {
   "cell_type": "code",
   "execution_count": null,
   "metadata": {},
   "outputs": [],
   "source": []
  }
 ],
 "metadata": {
  "kernelspec": {
   "display_name": "markets",
   "language": "python",
   "name": "python3"
  },
  "language_info": {
   "codemirror_mode": {
    "name": "ipython",
    "version": 3
   },
   "file_extension": ".py",
   "mimetype": "text/x-python",
   "name": "python",
   "nbconvert_exporter": "python",
   "pygments_lexer": "ipython3",
   "version": "3.12.2"
  }
 },
 "nbformat": 4,
 "nbformat_minor": 2
}
